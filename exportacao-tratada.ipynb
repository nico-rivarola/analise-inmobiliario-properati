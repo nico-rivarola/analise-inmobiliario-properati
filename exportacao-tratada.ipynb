{
 "cells": [
  {
   "cell_type": "markdown",
   "id": "5b98b773",
   "metadata": {},
   "source": [
    "# ================================================\n",
    "# EXPORTAÇÃO FINAL PARA LOOKER STUDIO\n",
    "# ================================================"
   ]
  },
  {
   "cell_type": "code",
   "execution_count": 4,
   "id": "058304dd",
   "metadata": {},
   "outputs": [],
   "source": [
    "import pandas as pd\n",
    "import os"
   ]
  },
  {
   "cell_type": "code",
   "execution_count": 8,
   "id": "76302e7b",
   "metadata": {},
   "outputs": [
    {
     "name": "stdout",
     "output_type": "stream",
     "text": [
      "Colunas disponíveis no dataset:\n",
      "['start_date', 'end_date', 'created_on', 'lat', 'lon', 'l1', 'l2', 'l3', 'rooms', 'bedrooms', 'bathrooms', 'surface_total', 'surface_covered', 'price', 'currency', 'title', 'description', 'property_type', 'operation_type']\n",
      "✅ Coluna de preço encontrada: price\n",
      "✅ Arquivo 'dados_properati_tratados.csv' exportado com sucesso!\n",
      "Total de registros exportados: 146660\n",
      "Colunas finais exportadas: ['tipo_imovel', 'preco', 'superficie_total', 'quartos', 'banheiros', 'cidade', 'provincia', 'data_publicacao']\n",
      "✅ Arquivo 'dados_properati_tratados.csv' exportado com sucesso!\n",
      "Total de registros exportados: 146660\n",
      "Colunas finais exportadas: ['tipo_imovel', 'preco', 'superficie_total', 'quartos', 'banheiros', 'cidade', 'provincia', 'data_publicacao']\n"
     ]
    }
   ],
   "source": [
    "import os\n",
    "import pandas as pd\n",
    "import pandas as pd\n",
    "\n",
    "df = pd.read_csv(\"DS_Proyecto_01_Datos_Properati.csv\")\n",
    "print(\"Colunas disponíveis no dataset:\")\n",
    "print(df.columns.tolist())\n",
    "\n",
    "# If df not present, try to load a likely source CSV from the project\n",
    "try:\n",
    "    df\n",
    "except NameError:\n",
    "    candidate = 'DS_Proyecto_01_Datos_Properati.csv'\n",
    "    if os.path.exists(candidate):\n",
    "        print(f\"Carregando dados de '{candidate}' como df...\")\n",
    "        df = pd.read_csv(candidate)\n",
    "    else:\n",
    "        raise SystemExit(\"Variável `df` não está definida e nenhum arquivo candidato foi encontrado. Carregue o dataset antes de rodar esta célula.\")\n",
    "\n",
    "# Detectar automaticamente a coluna de preço\n",
    "possiveis_precos = [\"price_usd\", \"price_aprox_usd\", \"price\"]\n",
    "coluna_preco = None\n",
    "for c in possiveis_precos:\n",
    "    if c in df.columns:\n",
    "        coluna_preco = c\n",
    "        break\n",
    "\n",
    "if coluna_preco:\n",
    "    print(f\"✅ Coluna de preço encontrada: {coluna_preco}\")\n",
    "else:\n",
    "    raise SystemExit(\"❌ Nenhuma coluna de preço encontrada no dataset.\")\n",
    "\n",
    "# Renomear colunas para padronizar\n",
    "df = df.rename(columns={\n",
    "    \"l3\": \"cidade\",\n",
    "    \"l2\": \"provincia\",\n",
    "    \"property_type\": \"tipo_imovel\",\n",
    "    coluna_preco: \"preco\",\n",
    "    \"surface_total\": \"superficie_total\",\n",
    "    \"rooms\": \"quartos\",\n",
    "    \"bathrooms\": \"banheiros\",\n",
    "    \"created_on\": \"data_publicacao\"\n",
    "})\n",
    "\n",
    "# Selecionar apenas colunas essenciais\n",
    "colunas_finais = [\n",
    "    \"tipo_imovel\",\n",
    "    \"preco\",\n",
    "    \"superficie_total\",\n",
    "    \"quartos\",\n",
    "    \"banheiros\",\n",
    "    \"cidade\",\n",
    "    \"provincia\",\n",
    "    \"data_publicacao\"\n",
    "]\n",
    "\n",
    "# Verificar colunas existentes\n",
    "existing_cols = [c for c in colunas_finais if c in df.columns]\n",
    "missing_cols = [c for c in colunas_finais if c not in df.columns]\n",
    "if missing_cols:\n",
    "    print(f\"Aviso: as colunas faltantes serão ignoradas: {missing_cols}\")\n",
    "\n",
    "df_export = df[existing_cols].copy()\n",
    "\n",
    "# Remover registros com preço ou localização nula\n",
    "df_export = df_export.dropna(subset=[col for col in [\"preco\", \"cidade\", \"provincia\"] if col in df_export.columns])\n",
    "\n",
    "# Garantir que a data esteja em formato datetime\n",
    "if 'data_publicacao' in df_export.columns:\n",
    "    df_export[\"data_publicacao\"] = pd.to_datetime(df_export[\"data_publicacao\"], errors=\"coerce\")\n",
    "\n",
    "# Salvar em CSV pronto para o Looker Studio\n",
    "out_path = \"dados_properati_tratados.csv\"\n",
    "df_export.to_csv(out_path, index=False, encoding=\"utf-8\")\n",
    "\n",
    "print(f\"✅ Arquivo '{out_path}' exportado com sucesso!\")\n",
    "print(\"Total de registros exportados:\", len(df_export))\n",
    "print(\"Colunas finais exportadas:\", df_export.columns.tolist())\n"
   ]
  }
 ],
 "metadata": {
  "kernelspec": {
   "display_name": "Python 3",
   "language": "python",
   "name": "python3"
  },
  "language_info": {
   "codemirror_mode": {
    "name": "ipython",
    "version": 3
   },
   "file_extension": ".py",
   "mimetype": "text/x-python",
   "name": "python",
   "nbconvert_exporter": "python",
   "pygments_lexer": "ipython3",
   "version": "3.13.5"
  }
 },
 "nbformat": 4,
 "nbformat_minor": 5
}
